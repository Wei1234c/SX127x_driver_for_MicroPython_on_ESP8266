{
 "cells": [
  {
   "cell_type": "markdown",
   "metadata": {},
   "source": [
    "# 上傳檔案 - LoRa SX127x driver for (Micro)Python"
   ]
  },
  {
   "cell_type": "markdown",
   "metadata": {},
   "source": [
    "### 需先安裝 ampy ( Adafruit MicroPython Tool )\n",
    "#### pip install adafruit-ampy\n",
    "https://github.com/adafruit/ampy  "
   ]
  },
  {
   "cell_type": "markdown",
   "metadata": {},
   "source": [
    "[Blog](https://wei1234c.blogspot.tw/2017/08/sx127x-lora-transceiver-driver-for.html)  "
   ]
  },
  {
   "cell_type": "code",
   "execution_count": 1,
   "metadata": {},
   "outputs": [],
   "source": [
    "import os\n",
    "import shutil"
   ]
  },
  {
   "cell_type": "markdown",
   "metadata": {},
   "source": [
    "### 設定COM port (set current COM port), baud rate"
   ]
  },
  {
   "cell_type": "code",
   "execution_count": 2,
   "metadata": {},
   "outputs": [],
   "source": [
    "baud_rate = 115200\n",
    "# baud_rate = 230400\n",
    "# baud_rate = 460800\n",
    "# baud_rate = 921600\n",
    "\n",
    "com_port = 'COM3'\n",
    "com_port = 'COM6'\n",
    "# com_port = 'COM7'\n",
    "# com_port = 'COM12'\n",
    "# com_port = 'COM13'\n",
    "# com_port = 'COM15'\n",
    "# com_port = 'COM16'\n",
    "# com_port = 'COM17'\n",
    "# com_port = '/dev/ttyUSB0'"
   ]
  },
  {
   "cell_type": "markdown",
   "metadata": {},
   "source": [
    "### Utility functions"
   ]
  },
  {
   "cell_type": "code",
   "execution_count": 3,
   "metadata": {},
   "outputs": [],
   "source": [
    "def clear_local_folder(folder):\n",
    "    print('\\n[Clearing folder {}]'.format(folder))\n",
    "    for file in os.listdir(folder):\n",
    "        os.remove(os.path.join(folder, file))\n",
    "        \n",
    "        \n",
    "def copy_one_file_to_local_folder(folder, file, destination_folder):\n",
    "    print('Copying {} to {}'.format(file, destination_folder))\n",
    "    shutil.copy(os.path.join(folder, file), destination_folder)\n",
    "    \n",
    "    \n",
    "def copy_all_files_to_local_folder(folders, destination_folder):\n",
    "    print('\\n[Copying all files to upload folder {}]'.format(destination_folder))\n",
    "    clear_local_folder(destination_folder)    \n",
    "    \n",
    "    for folder in folders: \n",
    "        for file in os.listdir(folder):\n",
    "            if (file.endswith('.py') or file.endswith('.mpy')) and not file.startswith('_'):\n",
    "                copy_one_file_to_local_folder(folder, file, destination_folder)"
   ]
  },
  {
   "cell_type": "code",
   "execution_count": 4,
   "metadata": {},
   "outputs": [],
   "source": [
    "def list_files_in_device(com_port):\n",
    "    files = !ampy --port {com_port} --baud {baud_rate} ls\n",
    "    return sorted(files)\n",
    "\n",
    "\n",
    "def cat_file_from_device(com_port, file):\n",
    "    !ampy --port {com_port} --baud {baud_rate} get {file}\n",
    "    \n",
    "\n",
    "def delete_file_in_device(com_port, file):\n",
    "    print('Deleting {}'.format(file))\n",
    "    !ampy --port {com_port} --baud {baud_rate} rm {file}\n",
    "    \n",
    "\n",
    "def delete_files_in_device(com_port):\n",
    "    print('\\n[Deleting all files in device {}]'.format(com_port))\n",
    "    for file in list_files_in_device(com_port):\n",
    "        delete_file_in_device(com_port, file)\n",
    "        \n",
    "#     try:\n",
    "#         !ampy --port {com_port} --baud {baud_rate} rmdir {'/'}\n",
    "#     except Exception as e:\n",
    "#         print(e)        \n",
    "        \n",
    "        \n",
    "def copy_one_file_to_device(com_port, folder, file, mpy_only = False):\n",
    "    if mpy_only:\n",
    "        if file.endswith('.mpy'):\n",
    "            print('Copying {}'.format(file))\n",
    "            !ampy --port {com_port} --baud {baud_rate} put {os.path.join(folder, file)}  \n",
    "    elif file.endswith('.py'):\n",
    "        print('Copying {}'.format(file))\n",
    "        !ampy --port {com_port} --baud {baud_rate} put {os.path.join(folder, file)}   \n",
    "        \n",
    "\n",
    "def delet_main_in_device(com_port, main_file_names):\n",
    "    print('Deleting {}'.format(main_file_names))\n",
    "    files = list_files_in_device(com_port)\n",
    "\n",
    "    for file in main_file_names:\n",
    "        if file in files:\n",
    "            delete_file_in_device(com_port, file)\n",
    "            \n",
    "            \n",
    "def delete_main_and_files_in_device(com_port, main_file_names = ['main.py', 'main.mpy'], delete_first = True, mpy_only = False):\n",
    "    print('\\n[Copying all files to device {}]'.format(com_port))\n",
    "    delet_main_in_device(com_port, main_file_names)\n",
    "    if mpy_only: delete_first = True\n",
    "    if delete_first: delete_files_in_device(com_port)\n",
    "        \n",
    "\n",
    "def copy_all_files_to_device(com_port, folder, main_file_names = ['main.py', 'main.mpy'], delete_first = True, mpy_only = False):    \n",
    "    for file in os.listdir(folder):\n",
    "        if (file.endswith('.py') or file.endswith('.mpy')) and not file.startswith('_') and not file in main_file_names:\n",
    "            copy_one_file_to_device(com_port, folder, file, mpy_only)                    \n",
    "    \n",
    "    for file in main_file_names:\n",
    "        if os.path.isfile(os.path.join(folder, file)):\n",
    "            copy_one_file_to_device(com_port, folder, file, mpy_only)  \n",
    "            \n",
    "            \n",
    "def do_all_to_device(com_port, folder, main_file_names = ['main.py', 'main.mpy'], delete_first = True, mpy_only = False):\n",
    "    delete_main_and_files_in_device(com_port, main_file_names, delete_first, mpy_only)\n",
    "    copy_all_files_to_device(com_port, folder, main_file_names, delete_first, mpy_only)"
   ]
  },
  {
   "cell_type": "markdown",
   "metadata": {},
   "source": [
    "### Copy *.py to device (all needed fils will be put in the same folder)"
   ]
  },
  {
   "cell_type": "code",
   "execution_count": 5,
   "metadata": {
    "scrolled": true
   },
   "outputs": [
    {
     "name": "stdout",
     "output_type": "stream",
     "text": [
      "\n",
      "[Copying all files to upload folder upload\\py]\n",
      "\n",
      "[Clearing folder upload\\py]\n",
      "Copying boot.py to upload\\py\n",
      "Copying config_lora.py to upload\\py\n",
      "Copying controller.py to upload\\py\n",
      "Copying controller_esp.py to upload\\py\n",
      "Copying controller_esp_ttgo_lora_oled.py to upload\\py\n",
      "Copying controller_rpi.py to upload\\py\n",
      "Copying main.py to upload\\py\n",
      "Copying LoRaDumpRegisters.py to upload\\py\n",
      "Copying LoRaDuplex.py to upload\\py\n",
      "Copying LoRaDuplexCallback.py to upload\\py\n",
      "Copying LoRaPingPong.py to upload\\py\n",
      "Copying LoRaReceiver.py to upload\\py\n",
      "Copying LoRaReceiverCallback.py to upload\\py\n",
      "Copying LoRaReceiverCallback_dual_channels.py to upload\\py\n",
      "Copying LoRaSender.py to upload\\py\n",
      "Copying LoRaSetSpread.py to upload\\py\n",
      "Copying LoRaSetSyncWord.py to upload\\py\n",
      "Copying test.py to upload\\py\n",
      "Copying test_dual_channels.py to upload\\py\n",
      "Copying display.py to upload\\py\n",
      "Copying display_ssd1306_i2c.py to upload\\py\n",
      "Copying display_ssd1306_spi.py to upload\\py\n",
      "Copying oled_test.py to upload\\py\n",
      "Copying ssd1306.py to upload\\py\n",
      "Copying sx127x.py to upload\\py\n"
     ]
    }
   ],
   "source": [
    "folders = [os.path.sep.join(['..', '..', 'codes', 'controller']),\n",
    "           os.path.sep.join(['..', '..', 'codes', 'demo']),\n",
    "           os.path.sep.join(['..', '..', 'codes', 'display']),\n",
    "           os.path.sep.join(['..', '..', 'codes', 'sx127x']),]\n",
    "\n",
    "upload_folder = os.path.sep.join(['upload', 'py'])\n",
    "\n",
    "copy_all_files_to_local_folder(folders, upload_folder)"
   ]
  },
  {
   "cell_type": "code",
   "execution_count": 6,
   "metadata": {
    "scrolled": false
   },
   "outputs": [
    {
     "name": "stdout",
     "output_type": "stream",
     "text": [
      "\n",
      "[Copying all files to device COM6]\n",
      "Deleting ['main.py', 'main.mpy']\n",
      "\n",
      "[Deleting all files in device COM6]\n",
      "Deleting /boot.py\n",
      "Copying boot.py\n",
      "Copying config_lora.py\n",
      "Copying controller.py\n",
      "Copying controller_esp.py\n",
      "Copying controller_esp_ttgo_lora_oled.py\n",
      "Copying controller_rpi.py\n",
      "Copying display.py\n",
      "Copying display_ssd1306_i2c.py\n",
      "Copying display_ssd1306_spi.py\n",
      "Copying LoRaDumpRegisters.py\n",
      "Copying LoRaDuplex.py\n",
      "Copying LoRaDuplexCallback.py\n",
      "Copying LoRaPingPong.py\n",
      "Copying LoRaReceiver.py\n",
      "Copying LoRaReceiverCallback.py\n",
      "Copying LoRaReceiverCallback_dual_channels.py\n",
      "Copying LoRaSender.py\n",
      "Copying LoRaSetSpread.py\n",
      "Copying LoRaSetSyncWord.py\n",
      "Copying oled_test.py\n",
      "Copying ssd1306.py\n",
      "Copying sx127x.py\n",
      "Copying test.py\n",
      "Copying test_dual_channels.py\n",
      "Copying main.py\n",
      "\n",
      "[All done!]\n"
     ]
    }
   ],
   "source": [
    "upload_folder_py = os.path.sep.join(['upload', 'py'])\n",
    "\n",
    "do_all_to_device(com_port, upload_folder, delete_first = True)\n",
    "\n",
    "print('\\n[All done!]')"
   ]
  },
  {
   "cell_type": "markdown",
   "metadata": {},
   "source": [
    "### Copy *.mpy to device"
   ]
  },
  {
   "cell_type": "code",
   "execution_count": null,
   "metadata": {
    "collapsed": true,
    "scrolled": false
   },
   "outputs": [],
   "source": [
    "upload_folder_py = os.path.sep.join(['upload', 'py'])\n",
    "upload_folder_mpy = os.path.sep.join(['upload', 'mpy'])\n",
    "\n",
    "do_all_to_device(com_port, upload_folder_mpy, mpy_only = True)\n",
    "\n",
    "copy_one_file_to_device(com_port, upload_folder_py, 'boot.py')\n",
    "copy_one_file_to_device(com_port, upload_folder_py, 'main.py')\n",
    "\n",
    "print('\\n[All done!]')"
   ]
  },
  {
   "cell_type": "markdown",
   "metadata": {},
   "source": [
    "### 單一檔案上傳 (single file upload, in case needed)"
   ]
  },
  {
   "cell_type": "code",
   "execution_count": 38,
   "metadata": {},
   "outputs": [
    {
     "name": "stdout",
     "output_type": "stream",
     "text": [
      "Copying controller.py\n"
     ]
    }
   ],
   "source": [
    "copy_one_file_to_device(com_port, os.path.sep.join(['..', '..', 'codes', 'controller']), 'controller.py') "
   ]
  },
  {
   "cell_type": "code",
   "execution_count": 39,
   "metadata": {},
   "outputs": [
    {
     "name": "stdout",
     "output_type": "stream",
     "text": [
      "Copying controller_esp.py\n"
     ]
    }
   ],
   "source": [
    "copy_one_file_to_device(com_port, os.path.sep.join(['..', '..', 'codes', 'controller']), 'controller_esp.py') "
   ]
  },
  {
   "cell_type": "code",
   "execution_count": 13,
   "metadata": {},
   "outputs": [
    {
     "name": "stdout",
     "output_type": "stream",
     "text": [
      "Copying controller_esp_ttgo_lora_oled.py\n"
     ]
    }
   ],
   "source": [
    "copy_one_file_to_device(com_port, os.path.sep.join(['..', '..', 'codes', 'controller']), 'controller_esp_ttgo_lora_oled.py') "
   ]
  },
  {
   "cell_type": "code",
   "execution_count": 39,
   "metadata": {},
   "outputs": [
    {
     "name": "stdout",
     "output_type": "stream",
     "text": [
      "Copying main.py\n"
     ]
    }
   ],
   "source": [
    "copy_one_file_to_device(com_port, os.path.sep.join(['..', '..', 'codes', 'controller']), 'main.py') "
   ]
  },
  {
   "cell_type": "code",
   "execution_count": 8,
   "metadata": {},
   "outputs": [
    {
     "name": "stdout",
     "output_type": "stream",
     "text": [
      "Copying config_lora.py\n"
     ]
    }
   ],
   "source": [
    "copy_one_file_to_device(com_port, os.path.sep.join(['..', '..', 'codes', 'controller']), 'config_lora.py') "
   ]
  },
  {
   "cell_type": "code",
   "execution_count": 7,
   "metadata": {},
   "outputs": [
    {
     "name": "stdout",
     "output_type": "stream",
     "text": [
      "Copying sx127x.py\n"
     ]
    }
   ],
   "source": [
    "copy_one_file_to_device(com_port, os.path.sep.join(['..', '..', 'codes', 'sx127x']), 'sx127x.py') "
   ]
  },
  {
   "cell_type": "code",
   "execution_count": 42,
   "metadata": {},
   "outputs": [
    {
     "name": "stdout",
     "output_type": "stream",
     "text": [
      "Copying test.py\n"
     ]
    }
   ],
   "source": [
    "copy_one_file_to_device(com_port, os.path.sep.join(['..', '..', 'codes', 'demo']), 'test.py') "
   ]
  },
  {
   "cell_type": "code",
   "execution_count": 28,
   "metadata": {},
   "outputs": [
    {
     "name": "stdout",
     "output_type": "stream",
     "text": [
      "Copying test_dual_channels.py\n"
     ]
    }
   ],
   "source": [
    "copy_one_file_to_device(com_port, os.path.sep.join(['..', '..', 'codes', 'demo']), 'test_dual_channels.py') "
   ]
  },
  {
   "cell_type": "code",
   "execution_count": 6,
   "metadata": {},
   "outputs": [
    {
     "name": "stdout",
     "output_type": "stream",
     "text": [
      "Copying LoRaSender.py\n"
     ]
    }
   ],
   "source": [
    "copy_one_file_to_device(com_port, os.path.sep.join(['..', '..', 'codes', 'demo']), 'LoRaSender.py') "
   ]
  },
  {
   "cell_type": "code",
   "execution_count": 165,
   "metadata": {},
   "outputs": [
    {
     "name": "stdout",
     "output_type": "stream",
     "text": [
      "Copying LoRaReceiver.py\n"
     ]
    }
   ],
   "source": [
    "copy_one_file_to_device(com_port, os.path.sep.join(['..', '..', 'codes', 'demo']), 'LoRaReceiver.py') "
   ]
  },
  {
   "cell_type": "code",
   "execution_count": 187,
   "metadata": {},
   "outputs": [
    {
     "name": "stdout",
     "output_type": "stream",
     "text": [
      "Copying LoRaSetSpread.py\n"
     ]
    }
   ],
   "source": [
    "copy_one_file_to_device(com_port, os.path.sep.join(['..', '..', 'codes', 'demo']), 'LoRaSetSpread.py') "
   ]
  },
  {
   "cell_type": "code",
   "execution_count": 44,
   "metadata": {},
   "outputs": [
    {
     "name": "stdout",
     "output_type": "stream",
     "text": [
      "Copying LoRaSetSyncWord.py\n"
     ]
    }
   ],
   "source": [
    "copy_one_file_to_device(com_port, os.path.sep.join(['..', '..', 'codes', 'demo']), 'LoRaSetSyncWord.py') "
   ]
  },
  {
   "cell_type": "code",
   "execution_count": 94,
   "metadata": {},
   "outputs": [
    {
     "name": "stdout",
     "output_type": "stream",
     "text": [
      "Copying LoRaReceiverCallback.py\n"
     ]
    }
   ],
   "source": [
    "copy_one_file_to_device(com_port, os.path.sep.join(['..', '..', 'codes', 'demo']), 'LoRaReceiverCallback.py') "
   ]
  },
  {
   "cell_type": "code",
   "execution_count": 109,
   "metadata": {},
   "outputs": [
    {
     "name": "stdout",
     "output_type": "stream",
     "text": [
      "Copying LoRaDuplex.py\n"
     ]
    }
   ],
   "source": [
    "copy_one_file_to_device(com_port, os.path.sep.join(['..', '..', 'codes', 'demo']), 'LoRaDuplex.py') "
   ]
  },
  {
   "cell_type": "code",
   "execution_count": 35,
   "metadata": {},
   "outputs": [
    {
     "name": "stdout",
     "output_type": "stream",
     "text": [
      "Copying LoRaDuplexCallback.py\n"
     ]
    }
   ],
   "source": [
    "copy_one_file_to_device(com_port, os.path.sep.join(['..', '..', 'codes', 'demo']), 'LoRaDuplexCallback.py') "
   ]
  },
  {
   "cell_type": "code",
   "execution_count": 33,
   "metadata": {},
   "outputs": [
    {
     "name": "stdout",
     "output_type": "stream",
     "text": [
      "Copying LoRaPingPong.py\n"
     ]
    }
   ],
   "source": [
    "copy_one_file_to_device(com_port, os.path.sep.join(['..', '..', 'codes', 'demo']), 'LoRaPingPong.py') "
   ]
  },
  {
   "cell_type": "code",
   "execution_count": 14,
   "metadata": {},
   "outputs": [
    {
     "name": "stdout",
     "output_type": "stream",
     "text": [
      "Copying ssd1306.py\n"
     ]
    }
   ],
   "source": [
    "copy_one_file_to_device(com_port, os.path.sep.join(['..', '..', 'codes', 'display']), 'ssd1306.py') "
   ]
  },
  {
   "cell_type": "code",
   "execution_count": 10,
   "metadata": {},
   "outputs": [
    {
     "name": "stdout",
     "output_type": "stream",
     "text": [
      "Copying display_ssd1306_i2c.py\n"
     ]
    }
   ],
   "source": [
    "copy_one_file_to_device(com_port, os.path.sep.join(['..', '..', 'codes', 'display']), 'display_ssd1306_i2c.py') "
   ]
  },
  {
   "cell_type": "markdown",
   "metadata": {},
   "source": [
    "### 列出檔案 (list files)"
   ]
  },
  {
   "cell_type": "code",
   "execution_count": null,
   "metadata": {
    "collapsed": true
   },
   "outputs": [],
   "source": [
    "# list_files_in_device(com_port)"
   ]
  },
  {
   "cell_type": "markdown",
   "metadata": {},
   "source": [
    "### 檢查檔案內容 (check file content)"
   ]
  },
  {
   "cell_type": "code",
   "execution_count": 9,
   "metadata": {},
   "outputs": [],
   "source": [
    "# cat_file_from_device(com_port, 'config_lora.py')"
   ]
  },
  {
   "cell_type": "markdown",
   "metadata": {},
   "source": [
    "### 連網測試 (network config and test)"
   ]
  },
  {
   "cell_type": "code",
   "execution_count": null,
   "metadata": {
    "collapsed": true
   },
   "outputs": [],
   "source": [
    "# 連上網路\n",
    "# import network; nic=network.WLAN(network.STA_IF); nic.active(False);  # disable network\n",
    "# import network; nic=network.WLAN(network.STA_IF); nic.active(True); nic.connect('SSID','password');nic.ifconfig()\n",
    "# import network; nic=network.WLAN(network.STA_IF); nic.active(True); nic.connect('Kingnet-70M-$370', '');nic.ifconfig()\n",
    "# import network; nic=network.WLAN(network.STA_IF); nic.ifconfig()\n",
    "# import network; nic=network.WLAN(network.STA_IF);nic.ifconfig();nic.config('mac');nic.ifconfig((['mac',])"
   ]
  },
  {
   "cell_type": "code",
   "execution_count": null,
   "metadata": {
    "collapsed": true
   },
   "outputs": [],
   "source": [
    "# Delete all files\n",
    "# import u_python;u_python.del_all_files();import os;os.listdir()"
   ]
  }
 ],
 "metadata": {
  "anaconda-cloud": {},
  "kernelspec": {
   "display_name": "Python 3",
   "language": "python",
   "name": "python3"
  },
  "language_info": {
   "codemirror_mode": {
    "name": "ipython",
    "version": 3
   },
   "file_extension": ".py",
   "mimetype": "text/x-python",
   "name": "python",
   "nbconvert_exporter": "python",
   "pygments_lexer": "ipython3",
   "version": "3.6.10"
  }
 },
 "nbformat": 4,
 "nbformat_minor": 1
}
